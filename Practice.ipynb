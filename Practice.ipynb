{
 "cells": [
  {
   "cell_type": "code",
   "execution_count": 3,
   "id": "87bd895c-269a-4419-a8cf-fd188f08c030",
   "metadata": {},
   "outputs": [],
   "source": [
    "import numpy as np\n",
    "from scipy import signal\n",
    "import pandas as pd\n",
    "\n",
    "# Load the data from the CSV file (assuming your CSV file doesn't have column names)\n",
    "data = pd.read_csv(\"bvp_data.csv\", header=None)\n",
    "\n",
    "# Extract timestamps and BVP values based on their positions in the data\n",
    "timestamps = data.iloc[:, 0].values\n",
    "bvp_values = data.iloc[:, 1].values\n",
    "\n",
    "# Define the original sampling rate (Hz) and the desired sampling rate\n",
    "original_sampling_rate = 64  # Replace with your actual sampling rate\n",
    "desired_sampling_rate = 16  # Replace with your desired sampling rate\n",
    "\n",
    "# Step 1: Filter the BVP data (e.g., low-pass filter to remove high-frequency noise)\n",
    "# You can choose a suitable filter design and parameters based on your data.\n",
    "cutoff_frequency = 1.0  # Adjust this based on your data characteristics\n",
    "b, a = signal.butter(4, cutoff_frequency / (original_sampling_rate / 2), btype='low')\n",
    "filtered_bvp_values = signal.filtfilt(b, a, bvp_values)\n",
    "\n",
    "# Step 2: Resample the filtered data to the desired sampling rate\n",
    "# Use the resample function from SciPy\n",
    "num_samples_original = len(bvp_values)\n",
    "num_samples_desired = int(num_samples_original * (desired_sampling_rate / original_sampling_rate))\n",
    "resampled_timestamps = np.linspace(timestamps[0], timestamps[-1], num_samples_desired)\n",
    "resampled_bvp_values = np.interp(resampled_timestamps, timestamps, filtered_bvp_values)\n",
    "\n",
    "# Now, resampled_timestamps and resampled_bvp_values contain the filtered and resampled data.\n",
    "\n",
    "# You can save the resampled data to a new CSV file if needed.\n",
    "resampled_data = pd.DataFrame({timestamps[0]: resampled_timestamps, timestamps[1]: resampled_bvp_values})\n",
    "resampled_data.to_csv(\"resampled_bvp_data.csv\", header=False, index=False)\n"
   ]
  },
  {
   "cell_type": "code",
   "execution_count": null,
   "id": "2fa8ad2c-7791-462c-9b1c-5419d7e6c5f9",
   "metadata": {},
   "outputs": [],
   "source": []
  }
 ],
 "metadata": {
  "kernelspec": {
   "display_name": "Python 3 (ipykernel)",
   "language": "python",
   "name": "python3"
  },
  "language_info": {
   "codemirror_mode": {
    "name": "ipython",
    "version": 3
   },
   "file_extension": ".py",
   "mimetype": "text/x-python",
   "name": "python",
   "nbconvert_exporter": "python",
   "pygments_lexer": "ipython3",
   "version": "3.11.5"
  }
 },
 "nbformat": 4,
 "nbformat_minor": 5
}
